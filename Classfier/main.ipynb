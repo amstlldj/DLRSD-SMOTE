{
 "cells": [
  {
   "cell_type": "code",
   "execution_count": 1,
   "id": "4b63621d-56c7-4c62-93cd-367304858604",
   "metadata": {},
   "outputs": [],
   "source": [
    "import Classfier\n",
    "import torch\n",
    "import torch.nn as nn\n",
    "import torch.optim as optim\n",
    "import torch.nn.functional as F\n",
    "from sklearn.metrics import f1_score, confusion_matrix\n",
    "import seaborn as sns\n",
    "import matplotlib.pyplot as plt\n",
    "import numpy as np\n",
    "from torchvision import models\n",
    "from sklearn.manifold import TSNE\n",
    "from torch.utils.data import DataLoader, Dataset\n",
    "from torchvision import transforms\n",
    "import os\n",
    "from PIL import Image\n",
    "import csv\n",
    "import time \n",
    "import random  \n",
    "import numpy as np\n",
    "import zipfile"
   ]
  },
  {
   "cell_type": "code",
   "execution_count": 2,
   "id": "535456b1-d116-4563-8adb-ff7a33f68907",
   "metadata": {},
   "outputs": [],
   "source": [
    "os.makedirs(\"results\", exist_ok=True)"
   ]
  },
  {
   "cell_type": "code",
   "execution_count": 3,
   "id": "641b99c4-6163-4e84-a824-48c6a84a4f3f",
   "metadata": {},
   "outputs": [],
   "source": [
    "Classfier.set_random_seed(42)"
   ]
  },
  {
   "cell_type": "code",
   "execution_count": 4,
   "id": "bbf9f8e7-0bbf-437a-9e58-3404cab5823c",
   "metadata": {},
   "outputs": [],
   "source": [
    "transform = transforms.Compose([\n",
    "    transforms.Resize((32, 32)),  \n",
    "    transforms.ToTensor(), \n",
    "])\n",
    "\n",
    "train_dataset = Classfier.CustomDataset(root_dir='D:/jupyternotebook/X-1/CWT-IL-ACSAWGAN-GP/Comparison Models/DSEA-SMOTE/BR1_400/images', transform=transform)\n",
    "test_dataset = Classfier.CustomDataset(root_dir='D:/jupyternotebook/X-1/CWT-IL-ACSAWGAN-GP/Data/CWRU/test_set', transform=transform)\n",
    "train_loader = DataLoader(train_dataset, batch_size=64, shuffle=True)\n",
    "test_loader = DataLoader(test_dataset, batch_size=64, shuffle=False)"
   ]
  },
  {
   "cell_type": "code",
   "execution_count": 5,
   "id": "188b41a6-d202-4b83-a73d-1d62351937e4",
   "metadata": {},
   "outputs": [],
   "source": [
    "patience = 5\n",
    "early_stopping = Classfier.EarlyStopping(patience=patience, min_loss=0.0001, max_accuracy=0.995, verbose=True)"
   ]
  },
  {
   "cell_type": "code",
   "execution_count": 7,
   "id": "5fa773c8-d244-4470-9a28-ed3bdc10d361",
   "metadata": {},
   "outputs": [],
   "source": [
    "class_names = [str(i) for i in range(10)]\n",
    "device = torch.device(\"cuda\" if torch.cuda.is_available() else \"cpu\")\n",
    "model = Classfier.VGG16().to(device)  \n",
    "criterion = nn.CrossEntropyLoss()\n",
    "optimizer = optim.Adam(model.parameters(), lr=0.0001) # 假设你已经准备好了模型、训练数据加载器、损失函数和优化器\n"
   ]
  },
  {
   "cell_type": "code",
   "execution_count": null,
   "id": "1a9df936-92c2-4c6c-97bf-c6eb9f20072d",
   "metadata": {},
   "outputs": [
    {
     "name": "stderr",
     "output_type": "stream",
     "text": [
      "D:\\Anaconda3\\envs\\dl\\lib\\site-packages\\torch\\autograd\\graph.py:744: UserWarning: Plan failed with a cudnnException: CUDNN_BACKEND_EXECUTION_PLAN_DESCRIPTOR: cudnnFinalize Descriptor Failed cudnn_status: CUDNN_STATUS_NOT_SUPPORTED (Triggered internally at C:\\actions-runner\\_work\\pytorch\\pytorch\\builder\\windows\\pytorch\\aten\\src\\ATen\\native\\cudnn\\Conv_v8.cpp:919.)\n",
      "  return Variable._execution_engine.run_backward(  # Calls into the C++ engine to run the backward pass\n"
     ]
    },
    {
     "name": "stdout",
     "output_type": "stream",
     "text": [
      "Epoch [1/200], Loss: 1.8204, Accuracy: 27.02%, Time: 233.19s\n",
      "Epoch [2/200], Loss: 0.3572, Accuracy: 88.21%, Time: 68.62s\n"
     ]
    }
   ],
   "source": [
    "train_losses, train_accuracies, train_times = Classfier.train(\n",
    "    model, train_loader, criterion, optimizer, \n",
    "    num_epochs=200, early_stopping=early_stopping, \n",
    "    device='cuda', output_file='results/training_results.csv'\n",
    ")"
   ]
  },
  {
   "cell_type": "code",
   "execution_count": null,
   "id": "997cccdb-1bb2-4b74-bfcd-2b5ee56345e8",
   "metadata": {},
   "outputs": [],
   "source": [
    "Classfier.plot_loss_acc_time_curve(train_losses, train_accuracies, train_times,  plot_dir='results')"
   ]
  },
  {
   "cell_type": "code",
   "execution_count": null,
   "id": "ed71fa01-6f27-499d-8b41-2f0faf10cdcd",
   "metadata": {},
   "outputs": [],
   "source": [
    "Classfier.test_model_with_metrics(model, test_loader, class_names,device)"
   ]
  },
  {
   "cell_type": "code",
   "execution_count": null,
   "id": "b6057871-678c-4435-b42d-b3330f17b7b0",
   "metadata": {},
   "outputs": [],
   "source": [
    "layer_name = model.classifier[-2]  \n",
    "hook = layer_name.register_forward_hook(hook_fn)\n",
    "\n",
    "class_names = [str(i) for i in range(10)]\n",
    "device = torch.device(\"cuda\" if torch.cuda.is_available() else \"cpu\")\n",
    "features_tsne, labels = Classfier.get_vgg16_features_and_tsne(model, test_loader, device)\n",
    "Classfier.plot_tsne(features_tsne, labels, class_names,save_path=\"results/tsne_visualization.png\")"
   ]
  },
  {
   "cell_type": "code",
   "execution_count": null,
   "id": "b5fc4422-54fe-4e56-b82e-ef8b3ba7a948",
   "metadata": {},
   "outputs": [],
   "source": [
    "folder_to_zip = 'results'  \n",
    "zip_filename = 'results.zip'  \n",
    "Classfier.zip_folder(folder_to_zip, zip_filename)"
   ]
  }
 ],
 "metadata": {
  "kernelspec": {
   "display_name": "Python 3 (ipykernel)",
   "language": "python",
   "name": "python3"
  },
  "language_info": {
   "codemirror_mode": {
    "name": "ipython",
    "version": 3
   },
   "file_extension": ".py",
   "mimetype": "text/x-python",
   "name": "python",
   "nbconvert_exporter": "python",
   "pygments_lexer": "ipython3",
   "version": "3.9.19"
  }
 },
 "nbformat": 4,
 "nbformat_minor": 5
}
